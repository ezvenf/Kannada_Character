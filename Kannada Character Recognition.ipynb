{
 "cells": [
  {
   "cell_type": "code",
   "execution_count": 5,
   "metadata": {},
   "outputs": [],
   "source": [
    "import pandas as pd\n",
    "import numpy as np\n",
    "import matplotlib.pyplot as plt\n",
    "import os\n",
    "import cv2\n",
    "import tensorflow as tf\n",
    "from tensorflow import keras\n",
    "from sklearn.utils import shuffle\n",
    "from keras.utils import np_utils"
   ]
  },
  {
   "cell_type": "code",
   "execution_count": 6,
   "metadata": {},
   "outputs": [],
   "source": [
    "image_dir = 'kannada_1/img'"
   ]
  },
  {
   "cell_type": "code",
   "execution_count": 7,
   "metadata": {},
   "outputs": [],
   "source": [
    "preds = {\n",
    "    0 : 'ಅ', \n",
    "    1 : 'ಆ',\n",
    "    2 : 'ಇ',\n",
    "    3 : 'ಈ',\n",
    "    4 : 'ಉ',\n",
    "    5 : 'ಊ',\n",
    "    6 : 'ಋ',\n",
    "    7 : 'ೠ',\n",
    "    8 : 'ಎ',\n",
    "    9 : 'ಏ',\n",
    "    10 : 'ಐ',\n",
    "    11 : 'ಒ',\n",
    "    12 : 'ಓ',\n",
    "    13 : 'ಔ',\n",
    "    14 : 'ಅಂ',\n",
    "    15 : 'ಅಃ',\n",
    "    16 : 'ಕ',\n",
    "    17 : 'ಖ',\n",
    "    18 : 'ಗ',\n",
    "    19 : 'ಘ',\n",
    "    20 : 'ಙ',\n",
    "    21 : 'ಚ',\n",
    "    22 : 'ಛ',\n",
    "    23 : 'ಜ',\n",
    "    24 : 'ಝ', \n",
    "    25 : 'ಞ',\n",
    "    26 : 'ಟ',\n",
    "    27 : 'ಠ',\n",
    "    28 : 'ಡ',\n",
    "    29 : 'ಢ',\n",
    "    30 : 'ಣ',\n",
    "    31 : 'ತ',\n",
    "    32 : 'ಥ',\n",
    "    33 : 'ದ',\n",
    "    34 : 'ಧ',\n",
    "    35 : 'ನ',\n",
    "    36 : 'ಪ',\n",
    "    37 : 'ಫ',\n",
    "    38 : 'ಬ',\n",
    "    39 : 'ಭ',\n",
    "    40 : 'ಮ',\n",
    "    41 : 'ಯ',\n",
    "    42 : 'ರ',\n",
    "    43 : 'ಱ',\n",
    "    44 : 'ಲ',\n",
    "    47 : 'ವ',\n",
    "    48 : 'ಶ',\n",
    "    49 : 'ಷ',\n",
    "    50 : 'ಸ',\n",
    "    51 : 'ಹ',\n",
    "    45 : 'ಳ',\n",
    "    46 : 'ೞ',\n",
    "    52 : '೦',\n",
    "    53 : '೧',\n",
    "    54 : '೨',\n",
    "    55 : '೩',\n",
    "    56 : '೪',\n",
    "    57 : '೫',\n",
    "    58 : '೬',\n",
    "    59 : '೭',\n",
    "    60 : '೮',\n",
    "    61 : '೯'\n",
    "}"
   ]
  },
  {
   "cell_type": "code",
   "execution_count": null,
   "metadata": {},
   "outputs": [],
   "source": []
  },
  {
   "cell_type": "code",
   "execution_count": 8,
   "metadata": {},
   "outputs": [
    {
     "ename": "NotADirectoryError",
     "evalue": "[Errno 20] Not a directory: 'kannada_1/img/Kannada_Character_Recognition.h5'",
     "output_type": "error",
     "traceback": [
      "\u001b[0;31m---------------------------------------------------------------------------\u001b[0m",
      "\u001b[0;31mNotADirectoryError\u001b[0m                        Traceback (most recent call last)",
      "Input \u001b[0;32mIn [8]\u001b[0m, in \u001b[0;36m<cell line: 2>\u001b[0;34m()\u001b[0m\n\u001b[1;32m      1\u001b[0m images \u001b[38;5;241m=\u001b[39m []\n\u001b[1;32m      2\u001b[0m \u001b[38;5;28;01mfor\u001b[39;00m g_id \u001b[38;5;129;01min\u001b[39;00m os\u001b[38;5;241m.\u001b[39mlistdir(image_dir):\n\u001b[0;32m----> 3\u001b[0m     \u001b[38;5;28;01mfor\u001b[39;00m idx, img_path \u001b[38;5;129;01min\u001b[39;00m \u001b[38;5;28menumerate\u001b[39m(\u001b[43mos\u001b[49m\u001b[38;5;241;43m.\u001b[39;49m\u001b[43mlistdir\u001b[49m\u001b[43m(\u001b[49m\u001b[43mos\u001b[49m\u001b[38;5;241;43m.\u001b[39;49m\u001b[43mpath\u001b[49m\u001b[38;5;241;43m.\u001b[39;49m\u001b[43mjoin\u001b[49m\u001b[43m(\u001b[49m\u001b[43mimage_dir\u001b[49m\u001b[43m,\u001b[49m\u001b[43m \u001b[49m\u001b[43mg_id\u001b[49m\u001b[43m)\u001b[49m\u001b[43m)\u001b[49m):\n\u001b[1;32m      4\u001b[0m         imgs \u001b[38;5;241m=\u001b[39m cv2\u001b[38;5;241m.\u001b[39mimread(image_dir \u001b[38;5;241m+\u001b[39m \u001b[38;5;124m\"\u001b[39m\u001b[38;5;124m/\u001b[39m\u001b[38;5;124m\"\u001b[39m \u001b[38;5;241m+\u001b[39m g_id \u001b[38;5;241m+\u001b[39m \u001b[38;5;124m\"\u001b[39m\u001b[38;5;124m/\u001b[39m\u001b[38;5;124m\"\u001b[39m \u001b[38;5;241m+\u001b[39m \u001b[38;5;28mstr\u001b[39m(idx \u001b[38;5;241m+\u001b[39m \u001b[38;5;241m1\u001b[39m) \u001b[38;5;241m+\u001b[39m \u001b[38;5;124m\"\u001b[39m\u001b[38;5;124m.png\u001b[39m\u001b[38;5;124m\"\u001b[39m, \u001b[38;5;241m0\u001b[39m)\n\u001b[1;32m      5\u001b[0m         imgs \u001b[38;5;241m=\u001b[39m cv2\u001b[38;5;241m.\u001b[39mresize(imgs, (\u001b[38;5;241m64\u001b[39m, \u001b[38;5;241m64\u001b[39m))\n",
      "\u001b[0;31mNotADirectoryError\u001b[0m: [Errno 20] Not a directory: 'kannada_1/img/Kannada_Character_Recognition.h5'"
     ]
    }
   ],
   "source": [
    "images = []\n",
    "for g_id in os.listdir(image_dir):\n",
    "    for idx, img_path in enumerate(os.listdir(os.path.join(image_dir, g_id))):\n",
    "        imgs = cv2.imread(image_dir + \"/\" + g_id + \"/\" + str(idx + 1) + \".png\", 0)\n",
    "        imgs = cv2.resize(imgs, (64, 64))\n",
    "        images.append((np.array(imgs), int(g_id)))   "
   ]
  },
  {
   "cell_type": "code",
   "execution_count": null,
   "metadata": {},
   "outputs": [],
   "source": [
    "images = shuffle(shuffle(images))"
   ]
  },
  {
   "cell_type": "code",
   "execution_count": null,
   "metadata": {},
   "outputs": [],
   "source": [
    "def split_images_labels(imgs):\n",
    "    images = []\n",
    "    labels = []\n",
    "    for img, label in imgs:\n",
    "        images.append(img)\n",
    "        labels.append(label)\n",
    "    return images, labels"
   ]
  },
  {
   "cell_type": "code",
   "execution_count": null,
   "metadata": {},
   "outputs": [],
   "source": [
    "imgs, labels = split_images_labels(images)"
   ]
  },
  {
   "cell_type": "code",
   "execution_count": null,
   "metadata": {},
   "outputs": [],
   "source": [
    "imgs = np.array(imgs)"
   ]
  },
  {
   "cell_type": "code",
   "execution_count": null,
   "metadata": {},
   "outputs": [],
   "source": [
    "imgs.shape"
   ]
  },
  {
   "cell_type": "code",
   "execution_count": null,
   "metadata": {},
   "outputs": [],
   "source": [
    "def plot_digit(img):\n",
    "    plt.figure(figsize = (2, 2))\n",
    "    plt.imshow(img, cmap = 'gray')\n",
    "    plt.show()"
   ]
  },
  {
   "cell_type": "code",
   "execution_count": null,
   "metadata": {},
   "outputs": [],
   "source": [
    "def show_letter(img_index):\n",
    "    print(\"Actual Base Letter : \", preds[labels[img_index]])\n",
    "    plot_digit(imgs[img_index])"
   ]
  },
  {
   "cell_type": "code",
   "execution_count": null,
   "metadata": {},
   "outputs": [],
   "source": [
    "show_letter(1001)"
   ]
  },
  {
   "cell_type": "code",
   "execution_count": null,
   "metadata": {},
   "outputs": [],
   "source": [
    "def split_data(images, labels):\n",
    "    \n",
    "    print(\"Length of images_labels\", len(labels))\n",
    "\n",
    "    train_images = images[:int(5/6*len(images))]\n",
    "    print(\"Length of train_images\", len(train_images))\n",
    "    \n",
    "\n",
    "    train_labels = labels[:int(5/6*len(labels))]\n",
    "    print(\"Length of train_labels\", len(train_labels))\n",
    "    \n",
    "\n",
    "    test_images = images[int(5/6*len(images)):]\n",
    "    print(\"Length of test_images\", len(test_images))\n",
    "    \n",
    "\n",
    "    test_labels = labels[int(5/6*len(labels)):]\n",
    "    print(\"Length of test_labels\", len(test_labels))\n",
    "    \n",
    "    return train_images, train_labels, test_images,test_labels"
   ]
  },
  {
   "cell_type": "code",
   "execution_count": null,
   "metadata": {},
   "outputs": [],
   "source": [
    "train_images, train_labels, test_images, test_labels = split_data(imgs, labels)"
   ]
  },
  {
   "cell_type": "code",
   "execution_count": null,
   "metadata": {},
   "outputs": [],
   "source": [
    "train_images.shape, test_images.shape"
   ]
  },
  {
   "cell_type": "code",
   "execution_count": null,
   "metadata": {},
   "outputs": [],
   "source": [
    "train_images = train_images.reshape(-1, 64, 64, 1)\n",
    "test_images = test_images.reshape(-1, 64, 64, 1)"
   ]
  },
  {
   "cell_type": "code",
   "execution_count": null,
   "metadata": {},
   "outputs": [],
   "source": [
    "train_labels = np.array(train_labels)\n",
    "test_labels = np.array(test_labels)"
   ]
  },
  {
   "cell_type": "code",
   "execution_count": null,
   "metadata": {},
   "outputs": [],
   "source": [
    "#train_labels = np_utils.to_categorical(train_labels)\n",
    "#test_labels = np_utils.to_categorical(test_labels)"
   ]
  },
  {
   "cell_type": "code",
   "execution_count": null,
   "metadata": {},
   "outputs": [],
   "source": [
    "data_augmentation = tf.keras.Sequential([\n",
    "  keras.layers.experimental.preprocessing.RandomFlip(\"horizontal\"),\n",
    "  keras.layers.experimental.preprocessing.RandomRotation(0.2),\n",
    "])"
   ]
  },
  {
   "cell_type": "code",
   "execution_count": null,
   "metadata": {},
   "outputs": [],
   "source": [
    "model = keras.models.Sequential([\n",
    "    keras.layers.Conv2D(filters = 10, kernel_size = (7, 7), padding = 'SAME', activation = 'relu', input_shape = (64, 64, 1)),\n",
    "    keras.layers.MaxPool2D(2),\n",
    "    keras.layers.Conv2D(filters = 64, kernel_size = (5, 5), activation = 'relu'),\n",
    "    keras.layers.MaxPool2D(2),\n",
    "    keras.layers.Conv2D(filters = 128, kernel_size = (5, 5), activation = 'relu'),\n",
    "    keras.layers.Conv2D(filters = 128, kernel_size = (5, 5), activation = 'relu'),\n",
    "    keras.layers.Flatten(),\n",
    "    keras.layers.Dense(128, activation = 'relu'),\n",
    "    keras.layers.Dense(84, activation = 'relu'),\n",
    "    keras.layers.Dense(62, activation = 'softmax')\n",
    "    ])\n",
    "    \n",
    "#Training Process\n",
    "\n",
    "model.compile(loss = 'sparse_categorical_crossentropy', optimizer = 'adam', metrics = ['accuracy'])\n",
    "model.fit(train_images, train_labels, epochs = 20, \n",
    "             validation_data = (test_images, test_labels))"
   ]
  },
  {
   "cell_type": "code",
   "execution_count": null,
   "metadata": {},
   "outputs": [],
   "source": [
    "model.save(os.path.join(image_dir, 'Kannada_Character_Recognition.h5'))"
   ]
  },
  {
   "cell_type": "code",
   "execution_count": null,
   "metadata": {},
   "outputs": [],
   "source": [
    "model.evaluate(test_images, test_labels)"
   ]
  },
  {
   "cell_type": "code",
   "execution_count": null,
   "metadata": {},
   "outputs": [],
   "source": [
    "def predict_character(img):\n",
    "    img_pred = model.predict(img.reshape(-1, 64, 64, 1))\n",
    "    plot_digit(img)\n",
    "    print('Predicted Character : ', preds[np.argmax(img_pred)])"
   ]
  },
  {
   "cell_type": "code",
   "execution_count": null,
   "metadata": {},
   "outputs": [],
   "source": [
    "import random"
   ]
  },
  {
   "cell_type": "code",
   "execution_count": null,
   "metadata": {},
   "outputs": [],
   "source": []
  },
  {
   "cell_type": "code",
   "execution_count": null,
   "metadata": {},
   "outputs": [],
   "source": [
    "predict_character(test_images[1260])"
   ]
  },
  {
   "cell_type": "code",
   "execution_count": null,
   "metadata": {},
   "outputs": [],
   "source": []
  },
  {
   "cell_type": "code",
   "execution_count": null,
   "metadata": {},
   "outputs": [],
   "source": []
  }
 ],
 "metadata": {
  "interpreter": {
   "hash": "ba384ce2cd1fd9d00cdc5d87c013382f7bb75d79de3e17049621d88b943d20c6"
  },
  "kernelspec": {
   "display_name": "Python 3.9 (tensorflow)",
   "language": "python",
   "name": "tensorflow"
  },
  "language_info": {
   "codemirror_mode": {
    "name": "ipython",
    "version": 3
   },
   "file_extension": ".py",
   "mimetype": "text/x-python",
   "name": "python",
   "nbconvert_exporter": "python",
   "pygments_lexer": "ipython3",
   "version": "3.9.12"
  }
 },
 "nbformat": 4,
 "nbformat_minor": 4
}
