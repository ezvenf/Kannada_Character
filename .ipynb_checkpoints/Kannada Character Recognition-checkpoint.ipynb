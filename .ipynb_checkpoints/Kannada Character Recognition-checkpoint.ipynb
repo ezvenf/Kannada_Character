{
 "cells": [
  {
   "cell_type": "code",
   "execution_count": 1,
   "metadata": {},
   "outputs": [
    {
     "ename": "ModuleNotFoundError",
     "evalue": "No module named 'cv2'",
     "output_type": "error",
     "traceback": [
      "\u001b[0;31m---------------------------------------------------------------------------\u001b[0m",
      "\u001b[0;31mModuleNotFoundError\u001b[0m                       Traceback (most recent call last)",
      "Input \u001b[0;32mIn [1]\u001b[0m, in \u001b[0;36m<cell line: 5>\u001b[0;34m()\u001b[0m\n\u001b[1;32m      3\u001b[0m \u001b[38;5;28;01mimport\u001b[39;00m \u001b[38;5;21;01mmatplotlib\u001b[39;00m\u001b[38;5;21;01m.\u001b[39;00m\u001b[38;5;21;01mpyplot\u001b[39;00m \u001b[38;5;28;01mas\u001b[39;00m \u001b[38;5;21;01mplt\u001b[39;00m\n\u001b[1;32m      4\u001b[0m \u001b[38;5;28;01mimport\u001b[39;00m \u001b[38;5;21;01mos\u001b[39;00m\n\u001b[0;32m----> 5\u001b[0m \u001b[38;5;28;01mimport\u001b[39;00m \u001b[38;5;21;01mcv2\u001b[39;00m\n\u001b[1;32m      6\u001b[0m \u001b[38;5;28;01mimport\u001b[39;00m \u001b[38;5;21;01mtensorflow\u001b[39;00m \u001b[38;5;28;01mas\u001b[39;00m \u001b[38;5;21;01mtf\u001b[39;00m\n\u001b[1;32m      7\u001b[0m \u001b[38;5;28;01mfrom\u001b[39;00m \u001b[38;5;21;01mtensorflow\u001b[39;00m \u001b[38;5;28;01mimport\u001b[39;00m keras\n",
      "\u001b[0;31mModuleNotFoundError\u001b[0m: No module named 'cv2'"
     ]
    }
   ],
   "source": [
    "import pandas as pd\n",
    "import numpy as np\n",
    "import matplotlib.pyplot as plt\n",
    "import os\n",
    "import cv2\n",
    "import tensorflow as tf\n",
    "from tensorflow import keras\n",
    "from sklearn.utils import shuffle\n",
    "from keras.utils import np_utils"
   ]
  },
  {
   "cell_type": "code",
   "execution_count": null,
   "metadata": {},
   "outputs": [],
   "source": [
    "image_dir = 'kannada_1\\img'"
   ]
  },
  {
   "cell_type": "code",
   "execution_count": null,
   "metadata": {},
   "outputs": [],
   "source": [
    "preds = {\n",
    "    0 : 'ಅ', \n",
    "    1 : 'ಆ',\n",
    "    2 : 'ಇ',\n",
    "    3 : 'ಈ',\n",
    "    4 : 'ಉ',\n",
    "    5 : 'ಊ',\n",
    "    6 : 'ಋ',\n",
    "    7 : 'ೠ',\n",
    "    8 : 'ಎ',\n",
    "    9 : 'ಏ',\n",
    "    10 : 'ಐ',\n",
    "    11 : 'ಒ',\n",
    "    12 : 'ಓ',\n",
    "    13 : 'ಔ',\n",
    "    14 : 'ಅಂ',\n",
    "    15 : 'ಅಃ',\n",
    "    16 : 'ಕ',\n",
    "    17 : 'ಖ',\n",
    "    18 : 'ಗ',\n",
    "    19 : 'ಘ',\n",
    "    20 : 'ಙ',\n",
    "    21 : 'ಚ',\n",
    "    22 : 'ಛ',\n",
    "    23 : 'ಜ',\n",
    "    24 : 'ಝ', \n",
    "    25 : 'ಞ',\n",
    "    26 : 'ಟ',\n",
    "    27 : 'ಠ',\n",
    "    28 : 'ಡ',\n",
    "    29 : 'ಢ',\n",
    "    30 : 'ಣ',\n",
    "    31 : 'ತ',\n",
    "    32 : 'ಥ',\n",
    "    33 : 'ದ',\n",
    "    34 : 'ಧ',\n",
    "    35 : 'ನ',\n",
    "    36 : 'ಪ',\n",
    "    37 : 'ಫ',\n",
    "    38 : 'ಬ',\n",
    "    39 : 'ಭ',\n",
    "    40 : 'ಮ',\n",
    "    41 : 'ಯ',\n",
    "    42 : 'ರ',\n",
    "    43 : 'ಱ',\n",
    "    44 : 'ಲ',\n",
    "    47 : 'ವ',\n",
    "    48 : 'ಶ',\n",
    "    49 : 'ಷ',\n",
    "    50 : 'ಸ',\n",
    "    51 : 'ಹ',\n",
    "    45 : 'ಳ',\n",
    "    46 : 'ೞ',\n",
    "    52 : '೦',\n",
    "    53 : '೧',\n",
    "    54 : '೨',\n",
    "    55 : '೩',\n",
    "    56 : '೪',\n",
    "    57 : '೫',\n",
    "    58 : '೬',\n",
    "    59 : '೭',\n",
    "    60 : '೮',\n",
    "    61 : '೯'\n",
    "}"
   ]
  },
  {
   "cell_type": "code",
   "execution_count": null,
   "metadata": {},
   "outputs": [],
   "source": []
  },
  {
   "cell_type": "code",
   "execution_count": null,
   "metadata": {},
   "outputs": [],
   "source": [
    "images = []\n",
    "for g_id in os.listdir(image_dir):\n",
    "    for idx, img_path in enumerate(os.listdir(os.path.join(image_dir, g_id))):\n",
    "        imgs = cv2.imread(image_dir + \"/\" + g_id + \"/\" + str(idx + 1) + \".png\", 0)\n",
    "        imgs = cv2.resize(imgs, (64, 64))\n",
    "        images.append((np.array(imgs), int(g_id)))   "
   ]
  },
  {
   "cell_type": "code",
   "execution_count": null,
   "metadata": {},
   "outputs": [],
   "source": [
    "images = shuffle(shuffle(images))"
   ]
  },
  {
   "cell_type": "code",
   "execution_count": null,
   "metadata": {},
   "outputs": [],
   "source": [
    "def split_images_labels(imgs):\n",
    "    images = []\n",
    "    labels = []\n",
    "    for img, label in imgs:\n",
    "        images.append(img)\n",
    "        labels.append(label)\n",
    "    return images, labels"
   ]
  },
  {
   "cell_type": "code",
   "execution_count": null,
   "metadata": {},
   "outputs": [],
   "source": [
    "imgs, labels = split_images_labels(images)"
   ]
  },
  {
   "cell_type": "code",
   "execution_count": null,
   "metadata": {},
   "outputs": [],
   "source": [
    "imgs = np.array(imgs)"
   ]
  },
  {
   "cell_type": "code",
   "execution_count": null,
   "metadata": {},
   "outputs": [
    {
     "data": {
      "text/plain": [
       "(15876, 64, 64)"
      ]
     },
     "execution_count": 31,
     "metadata": {},
     "output_type": "execute_result"
    }
   ],
   "source": [
    "imgs.shape"
   ]
  },
  {
   "cell_type": "code",
   "execution_count": null,
   "metadata": {},
   "outputs": [],
   "source": [
    "def plot_digit(img):\n",
    "    plt.figure(figsize = (2, 2))\n",
    "    plt.imshow(img, cmap = 'gray')\n",
    "    plt.show()"
   ]
  },
  {
   "cell_type": "code",
   "execution_count": null,
   "metadata": {},
   "outputs": [],
   "source": [
    "def show_letter(img_index):\n",
    "    print(\"Actual Base Letter : \", preds[labels[img_index]])\n",
    "    plot_digit(imgs[img_index])"
   ]
  },
  {
   "cell_type": "code",
   "execution_count": null,
   "metadata": {},
   "outputs": [
    {
     "name": "stdout",
     "output_type": "stream",
     "text": [
      "Actual Base Letter :  ನ\n"
     ]
    },
    {
     "data": {
      "image/png": "[encoded data removed]",
      "text/plain": [
       "<Figure size 144x144 with 1 Axes>"
      ]
     },
     "metadata": {
      "needs_background": "light"
     },
     "output_type": "display_data"
    }
   ],
   "source": [
    "show_letter(1001)"
   ]
  },
  {
   "cell_type": "code",
   "execution_count": null,
   "metadata": {},
   "outputs": [],
   "source": [
    "def split_data(images, labels):\n",
    "    \n",
    "    print(\"Length of images_labels\", len(labels))\n",
    "\n",
    "    train_images = images[:int(5/6*len(images))]\n",
    "    print(\"Length of train_images\", len(train_images))\n",
    "    \n",
    "\n",
    "    train_labels = labels[:int(5/6*len(labels))]\n",
    "    print(\"Length of train_labels\", len(train_labels))\n",
    "    \n",
    "\n",
    "    test_images = images[int(5/6*len(images)):]\n",
    "    print(\"Length of test_images\", len(test_images))\n",
    "    \n",
    "\n",
    "    test_labels = labels[int(5/6*len(labels)):]\n",
    "    print(\"Length of test_labels\", len(test_labels))\n",
    "    \n",
    "    return train_images, train_labels, test_images,test_labels"
   ]
  },
  {
   "cell_type": "code",
   "execution_count": null,
   "metadata": {},
   "outputs": [
    {
     "name": "stdout",
     "output_type": "stream",
     "text": [
      "Length of images_labels 15876\n",
      "Length of train_images 13230\n",
      "Length of train_labels 13230\n",
      "Length of test_images 2646\n",
      "Length of test_labels 2646\n"
     ]
    }
   ],
   "source": [
    "train_images, train_labels, test_images, test_labels = split_data(imgs, labels)"
   ]
  },
  {
   "cell_type": "code",
   "execution_count": null,
   "metadata": {},
   "outputs": [
    {
     "data": {
      "text/plain": [
       "((13230, 64, 64), (2646, 64, 64))"
      ]
     },
     "execution_count": 37,
     "metadata": {},
     "output_type": "execute_result"
    }
   ],
   "source": [
    "train_images.shape, test_images.shape"
   ]
  },
  {
   "cell_type": "code",
   "execution_count": null,
   "metadata": {},
   "outputs": [],
   "source": [
    "train_images = train_images.reshape(-1, 64, 64, 1)\n",
    "test_images = test_images.reshape(-1, 64, 64, 1)"
   ]
  },
  {
   "cell_type": "code",
   "execution_count": null,
   "metadata": {},
   "outputs": [],
   "source": [
    "train_labels = np.array(train_labels)\n",
    "test_labels = np.array(test_labels)"
   ]
  },
  {
   "cell_type": "code",
   "execution_count": null,
   "metadata": {},
   "outputs": [],
   "source": [
    "#train_labels = np_utils.to_categorical(train_labels)\n",
    "#test_labels = np_utils.to_categorical(test_labels)"
   ]
  },
  {
   "cell_type": "code",
   "execution_count": null,
   "metadata": {},
   "outputs": [],
   "source": [
    "data_augmentation = tf.keras.Sequential([\n",
    "  keras.layers.experimental.preprocessing.RandomFlip(\"horizontal\"),\n",
    "  keras.layers.experimental.preprocessing.RandomRotation(0.2),\n",
    "])"
   ]
  },
  {
   "cell_type": "code",
   "execution_count": null,
   "metadata": {},
   "outputs": [
    {
     "name": "stdout",
     "output_type": "stream",
     "text": [
      "Epoch 1/20\n",
      "414/414 [==============================] - 51s 123ms/step - loss: 5.3415 - accuracy: 0.0559 - val_loss: 2.5250 - val_accuracy: 0.3020\n",
      "Epoch 2/20\n",
      "414/414 [==============================] - 53s 129ms/step - loss: 1.9138 - accuracy: 0.4557 - val_loss: 1.1495 - val_accuracy: 0.6602\n",
      "Epoch 3/20\n",
      "414/414 [==============================] - 55s 132ms/step - loss: 0.9356 - accuracy: 0.7059 - val_loss: 0.7988 - val_accuracy: 0.7498\n",
      "Epoch 4/20\n",
      "414/414 [==============================] - 50s 121ms/step - loss: 0.5321 - accuracy: 0.8249 - val_loss: 0.6892 - val_accuracy: 0.7967\n",
      "Epoch 5/20\n",
      "414/414 [==============================] - 53s 129ms/step - loss: 0.3964 - accuracy: 0.8679 - val_loss: 0.6848 - val_accuracy: 0.7937\n",
      "Epoch 6/20\n",
      "414/414 [==============================] - 55s 132ms/step - loss: 0.3167 - accuracy: 0.8918 - val_loss: 0.7043 - val_accuracy: 0.8069\n",
      "Epoch 7/20\n",
      "414/414 [==============================] - 55s 133ms/step - loss: 0.2464 - accuracy: 0.9156 - val_loss: 0.6947 - val_accuracy: 0.8209\n",
      "Epoch 8/20\n",
      "414/414 [==============================] - 55s 132ms/step - loss: 0.2059 - accuracy: 0.9316 - val_loss: 0.7860 - val_accuracy: 0.8220\n",
      "Epoch 9/20\n",
      "414/414 [==============================] - 53s 129ms/step - loss: 0.1770 - accuracy: 0.9417 - val_loss: 0.7450 - val_accuracy: 0.8159\n",
      "Epoch 10/20\n",
      "414/414 [==============================] - 52s 126ms/step - loss: 0.2030 - accuracy: 0.9365 - val_loss: 0.9125 - val_accuracy: 0.7982\n",
      "Epoch 11/20\n",
      "414/414 [==============================] - 52s 126ms/step - loss: 0.1569 - accuracy: 0.9505 - val_loss: 0.8441 - val_accuracy: 0.8330\n",
      "Epoch 12/20\n",
      "414/414 [==============================] - 54s 129ms/step - loss: 0.1709 - accuracy: 0.9499 - val_loss: 0.8726 - val_accuracy: 0.8186\n",
      "Epoch 13/20\n",
      "414/414 [==============================] - 52s 127ms/step - loss: 0.1525 - accuracy: 0.9522 - val_loss: 1.0301 - val_accuracy: 0.8159\n",
      "Epoch 14/20\n",
      "414/414 [==============================] - 52s 126ms/step - loss: 0.1551 - accuracy: 0.9563 - val_loss: 1.0830 - val_accuracy: 0.8107\n",
      "Epoch 15/20\n",
      "414/414 [==============================] - 52s 126ms/step - loss: 0.1810 - accuracy: 0.9508 - val_loss: 0.8512 - val_accuracy: 0.8269\n",
      "Epoch 16/20\n",
      "414/414 [==============================] - 52s 126ms/step - loss: 0.1385 - accuracy: 0.9613 - val_loss: 0.9718 - val_accuracy: 0.8299\n",
      "Epoch 17/20\n",
      "414/414 [==============================] - 52s 125ms/step - loss: 0.1260 - accuracy: 0.9655 - val_loss: 0.9629 - val_accuracy: 0.8405\n",
      "Epoch 18/20\n",
      "414/414 [==============================] - 52s 125ms/step - loss: 0.1286 - accuracy: 0.9647 - val_loss: 0.8501 - val_accuracy: 0.8496\n",
      "Epoch 19/20\n",
      "414/414 [==============================] - 53s 128ms/step - loss: 0.1299 - accuracy: 0.9652 - val_loss: 1.0843 - val_accuracy: 0.8224\n",
      "Epoch 20/20\n",
      "414/414 [==============================] - 52s 126ms/step - loss: 0.1526 - accuracy: 0.9590 - val_loss: 0.8946 - val_accuracy: 0.8439\n"
     ]
    },
    {
     "data": {
      "text/plain": [
       "<tensorflow.python.keras.callbacks.History at 0x1e56370b0a0>"
      ]
     },
     "execution_count": 42,
     "metadata": {},
     "output_type": "execute_result"
    }
   ],
   "source": [
    "model = keras.models.Sequential([\n",
    "    keras.layers.Conv2D(filters = 10, kernel_size = (7, 7), padding = 'SAME', activation = 'relu', input_shape = (64, 64, 1)),\n",
    "    keras.layers.MaxPool2D(2),\n",
    "    keras.layers.Conv2D(filters = 64, kernel_size = (5, 5), activation = 'relu'),\n",
    "    keras.layers.MaxPool2D(2),\n",
    "    keras.layers.Conv2D(filters = 128, kernel_size = (5, 5), activation = 'relu'),\n",
    "    keras.layers.Conv2D(filters = 128, kernel_size = (5, 5), activation = 'relu'),\n",
    "    keras.layers.Flatten(),\n",
    "    keras.layers.Dense(128, activation = 'relu'),\n",
    "    keras.layers.Dense(84, activation = 'relu'),\n",
    "    keras.layers.Dense(62, activation = 'softmax')\n",
    "    ])\n",
    "    \n",
    "#Training Process\n",
    "\n",
    "model.compile(loss = 'sparse_categorical_crossentropy', optimizer = 'adam', metrics = ['accuracy'])\n",
    "model.fit(train_images, train_labels, epochs = 20, \n",
    "             validation_data = (test_images, test_labels))"
   ]
  },
  {
   "cell_type": "code",
   "execution_count": null,
   "metadata": {},
   "outputs": [],
   "source": [
    "model.save(os.path.join(image_dir, 'Kannada_Character_Recognition.h5'))"
   ]
  },
  {
   "cell_type": "code",
   "execution_count": null,
   "metadata": {},
   "outputs": [
    {
     "name": "stdout",
     "output_type": "stream",
     "text": [
      "83/83 [==============================] - 2s 24ms/step - loss: 0.8946 - accuracy: 0.8439\n"
     ]
    },
    {
     "data": {
      "text/plain": [
       "[0.8946331143379211, 0.8439153432846069]"
      ]
     },
     "execution_count": 44,
     "metadata": {},
     "output_type": "execute_result"
    }
   ],
   "source": [
    "model.evaluate(test_images, test_labels)"
   ]
  },
  {
   "cell_type": "code",
   "execution_count": null,
   "metadata": {},
   "outputs": [],
   "source": [
    "def predict_character(img):\n",
    "    img_pred = model.predict(img.reshape(-1, 64, 64, 1))\n",
    "    plot_digit(img)\n",
    "    print('Predicted Character : ', preds[np.argmax(img_pred)])"
   ]
  },
  {
   "cell_type": "code",
   "execution_count": null,
   "metadata": {},
   "outputs": [],
   "source": [
    "import random"
   ]
  },
  {
   "cell_type": "code",
   "execution_count": null,
   "metadata": {},
   "outputs": [],
   "source": []
  },
  {
   "cell_type": "code",
   "execution_count": null,
   "metadata": {},
   "outputs": [
    {
     "data": {
      "image/png": "[encoded data removed]",
      "text/plain": [
       "<Figure size 144x144 with 1 Axes>"
      ]
     },
     "metadata": {
      "needs_background": "light"
     },
     "output_type": "display_data"
    },
    {
     "name": "stdout",
     "output_type": "stream",
     "text": [
      "Predicted Character :  ತ\n"
     ]
    }
   ],
   "source": [
    "predict_character(test_images[1260])"
   ]
  },
  {
   "cell_type": "code",
   "execution_count": null,
   "metadata": {},
   "outputs": [],
   "source": []
  },
  {
   "cell_type": "code",
   "execution_count": null,
   "metadata": {},
   "outputs": [],
   "source": []
  }
 ],
 "metadata": {
  "interpreter": {
   "hash": "ba384ce2cd1fd9d00cdc5d87c013382f7bb75d79de3e17049621d88b943d20c6"
  },
  "kernelspec": {
   "display_name": "Python 3 (ipykernel)",
   "language": "python",
   "name": "python3"
  },
  "language_info": {
   "codemirror_mode": {
    "name": "ipython",
    "version": 3
   },
   "file_extension": ".py",
   "mimetype": "text/x-python",
   "name": "python",
   "nbconvert_exporter": "python",
   "pygments_lexer": "ipython3",
   "version": "3.9.12"
  }
 },
 "nbformat": 4,
 "nbformat_minor": 4
}
